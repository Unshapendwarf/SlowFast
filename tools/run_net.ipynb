{
 "cells": [
  {
   "cell_type": "code",
   "execution_count": null,
   "metadata": {},
   "outputs": [],
   "source": [
    "\"\"\"Wrapper to train and test a video classification model.\"\"\"\n",
    "from slowfast.config.defaults import assert_and_infer_cfg\n",
    "from slowfast.utils.misc import launch_job\n",
    "from slowfast.utils.parser import load_config, parse_args\n",
    "\n",
    "from demo_net import demo\n",
    "from test_net import test\n",
    "from train_net import train\n",
    "\n",
    "# from memchecker import test\n",
    "from memchecker import memcheck\n",
    "from visualization import visualize"
   ]
  },
  {
   "cell_type": "code",
   "execution_count": null,
   "metadata": {},
   "outputs": [],
   "source": []
  }
 ],
 "metadata": {
  "language_info": {
   "name": "python"
  },
  "orig_nbformat": 4
 },
 "nbformat": 4,
 "nbformat_minor": 2
}
